{
  "nbformat": 4,
  "nbformat_minor": 0,
  "metadata": {
    "colab": {
      "provenance": [],
      "authorship_tag": "ABX9TyNNZuh0yko8qPjlpSXRFQnc",
      "include_colab_link": true
    },
    "kernelspec": {
      "name": "python3",
      "display_name": "Python 3"
    },
    "language_info": {
      "name": "python"
    }
  },
  "cells": [
    {
      "cell_type": "markdown",
      "metadata": {
        "id": "view-in-github",
        "colab_type": "text"
      },
      "source": [
        "<a href=\"https://colab.research.google.com/github/aliferds/bcc325_prova02/blob/main/Prova02_BCC325___Analise_de_sentimentos_em_avaliacoes_de_produtos.ipynb\" target=\"_parent\"><img src=\"https://colab.research.google.com/assets/colab-badge.svg\" alt=\"Open In Colab\"/></a>"
      ]
    },
    {
      "cell_type": "markdown",
      "source": [
        "\n",
        "# Analise de Sentimento em avaliações de produtos #\n"
      ],
      "metadata": {
        "id": "AeM_Bq4izQFa"
      }
    },
    {
      "cell_type": "markdown",
      "source": [
        "## Importação do dataset ##"
      ],
      "metadata": {
        "id": "qKPPuV2c1KHc"
      }
    },
    {
      "cell_type": "code",
      "source": [
        "!gdown '1JxPS6PHxsWxlo1Nc8Jay53EYyHq8nhuL' -O amazon.csv"
      ],
      "metadata": {
        "colab": {
          "base_uri": "https://localhost:8080/"
        },
        "id": "m-BtvODC1JbZ",
        "outputId": "440f72ae-5067-400e-c8e2-1813b5763edc"
      },
      "execution_count": null,
      "outputs": [
        {
          "output_type": "stream",
          "name": "stdout",
          "text": [
            "Downloading...\n",
            "From: https://drive.google.com/uc?id=1JxPS6PHxsWxlo1Nc8Jay53EYyHq8nhuL\n",
            "To: /content/amazon.csv\n",
            "\r  0% 0.00/4.74M [00:00<?, ?B/s]\r100% 4.74M/4.74M [00:00<00:00, 132MB/s]\n"
          ]
        }
      ]
    },
    {
      "cell_type": "markdown",
      "source": [
        "### -------------------------------------------------------------------------------------------------------------------------------------------------------------------"
      ],
      "metadata": {
        "id": "Hg0EYME1BA5D"
      }
    },
    {
      "cell_type": "markdown",
      "source": [
        "## Instalação das bibliotecas"
      ],
      "metadata": {
        "id": "IKGFJkU86SH5"
      }
    },
    {
      "cell_type": "code",
      "source": [
        "!pip install pandas"
      ],
      "metadata": {
        "colab": {
          "base_uri": "https://localhost:8080/"
        },
        "id": "WYXlutIA2DBs",
        "outputId": "918a8ad1-7d5c-4224-ea8c-7e289300b6dc"
      },
      "execution_count": null,
      "outputs": [
        {
          "output_type": "stream",
          "name": "stdout",
          "text": [
            "Requirement already satisfied: pandas in /usr/local/lib/python3.10/dist-packages (2.1.4)\n",
            "Requirement already satisfied: numpy<2,>=1.22.4 in /usr/local/lib/python3.10/dist-packages (from pandas) (1.26.4)\n",
            "Requirement already satisfied: python-dateutil>=2.8.2 in /usr/local/lib/python3.10/dist-packages (from pandas) (2.8.2)\n",
            "Requirement already satisfied: pytz>=2020.1 in /usr/local/lib/python3.10/dist-packages (from pandas) (2024.2)\n",
            "Requirement already satisfied: tzdata>=2022.1 in /usr/local/lib/python3.10/dist-packages (from pandas) (2024.1)\n",
            "Requirement already satisfied: six>=1.5 in /usr/local/lib/python3.10/dist-packages (from python-dateutil>=2.8.2->pandas) (1.16.0)\n"
          ]
        }
      ]
    },
    {
      "cell_type": "markdown",
      "source": [
        "## Importação das bibliotecas"
      ],
      "metadata": {
        "id": "EhIoHR8p6eqF"
      }
    },
    {
      "cell_type": "code",
      "source": [
        "import pandas as pd"
      ],
      "metadata": {
        "id": "Niik-eEm2MDU"
      },
      "execution_count": null,
      "outputs": []
    },
    {
      "cell_type": "markdown",
      "source": [
        "Abrindo o arquivo com pandas"
      ],
      "metadata": {
        "id": "nbA7Q8Th6kgR"
      }
    },
    {
      "cell_type": "code",
      "source": [
        "df = pd.read_csv(\"amazon.csv\", on_bad_lines='skip')"
      ],
      "metadata": {
        "id": "R_rNS3fv2XlU"
      },
      "execution_count": null,
      "outputs": []
    },
    {
      "cell_type": "code",
      "source": [
        "pd.set_option('display.max_columns', None)"
      ],
      "metadata": {
        "id": "YCEDxA562wF0"
      },
      "execution_count": null,
      "outputs": []
    },
    {
      "cell_type": "code",
      "source": [
        "# df.head(4) # Retorna os n valores iniciais"
      ],
      "metadata": {
        "id": "pIz5x8WZ2071"
      },
      "execution_count": null,
      "outputs": []
    },
    {
      "cell_type": "markdown",
      "source": [
        "Verificando as colunas e os tipos de dados usados"
      ],
      "metadata": {
        "id": "6QijgYTJ7RVS"
      }
    },
    {
      "cell_type": "code",
      "source": [
        "df.info()"
      ],
      "metadata": {
        "colab": {
          "base_uri": "https://localhost:8080/"
        },
        "id": "10HMuZEr7b1k",
        "outputId": "4fe028d7-62d9-4574-b2bb-0fa271b5e909"
      },
      "execution_count": null,
      "outputs": [
        {
          "output_type": "stream",
          "name": "stdout",
          "text": [
            "<class 'pandas.core.frame.DataFrame'>\n",
            "RangeIndex: 1465 entries, 0 to 1464\n",
            "Data columns (total 16 columns):\n",
            " #   Column               Non-Null Count  Dtype \n",
            "---  ------               --------------  ----- \n",
            " 0   product_id           1465 non-null   object\n",
            " 1   product_name         1465 non-null   object\n",
            " 2   category             1465 non-null   object\n",
            " 3   discounted_price     1465 non-null   object\n",
            " 4   actual_price         1465 non-null   object\n",
            " 5   discount_percentage  1465 non-null   object\n",
            " 6   rating               1465 non-null   object\n",
            " 7   rating_count         1463 non-null   object\n",
            " 8   about_product        1465 non-null   object\n",
            " 9   user_id              1465 non-null   object\n",
            " 10  user_name            1465 non-null   object\n",
            " 11  review_id            1465 non-null   object\n",
            " 12  review_title         1465 non-null   object\n",
            " 13  review_content       1465 non-null   object\n",
            " 14  img_link             1465 non-null   object\n",
            " 15  product_link         1465 non-null   object\n",
            "dtypes: object(16)\n",
            "memory usage: 183.2+ KB\n"
          ]
        }
      ]
    },
    {
      "cell_type": "markdown",
      "source": [
        "Verificando se há valores nulos"
      ],
      "metadata": {
        "id": "TBeSxjUM7yPt"
      }
    },
    {
      "cell_type": "code",
      "source": [
        "# df.isnull().sum() # retorna a quantidade de valores nulos de acordo com a coluna"
      ],
      "metadata": {
        "id": "HCxi0Nbg70yq"
      },
      "execution_count": null,
      "outputs": []
    },
    {
      "cell_type": "markdown",
      "source": [
        "Convertendo os valores para float"
      ],
      "metadata": {
        "id": "4PL-PHcD75-_"
      }
    },
    {
      "cell_type": "code",
      "source": [
        "df['rating'].value_counts()"
      ],
      "metadata": {
        "colab": {
          "base_uri": "https://localhost:8080/",
          "height": 994
        },
        "id": "Glfyqwt_8iBQ",
        "outputId": "f7a267a7-a9ee-40f2-f86b-9694255515bd"
      },
      "execution_count": null,
      "outputs": [
        {
          "output_type": "execute_result",
          "data": {
            "text/plain": [
              "rating\n",
              "4.1    244\n",
              "4.3    230\n",
              "4.2    228\n",
              "4.0    129\n",
              "3.9    123\n",
              "4.4    123\n",
              "3.8     86\n",
              "4.5     75\n",
              "4       52\n",
              "3.7     42\n",
              "3.6     35\n",
              "3.5     26\n",
              "4.6     17\n",
              "3.3     16\n",
              "3.4     10\n",
              "4.7      6\n",
              "3.1      4\n",
              "5.0      3\n",
              "3.0      3\n",
              "4.8      3\n",
              "3.2      2\n",
              "2.8      2\n",
              "2.3      1\n",
              "|        1\n",
              "2        1\n",
              "3        1\n",
              "2.6      1\n",
              "2.9      1\n",
              "Name: count, dtype: int64"
            ],
            "text/html": [
              "<div>\n",
              "<style scoped>\n",
              "    .dataframe tbody tr th:only-of-type {\n",
              "        vertical-align: middle;\n",
              "    }\n",
              "\n",
              "    .dataframe tbody tr th {\n",
              "        vertical-align: top;\n",
              "    }\n",
              "\n",
              "    .dataframe thead th {\n",
              "        text-align: right;\n",
              "    }\n",
              "</style>\n",
              "<table border=\"1\" class=\"dataframe\">\n",
              "  <thead>\n",
              "    <tr style=\"text-align: right;\">\n",
              "      <th></th>\n",
              "      <th>count</th>\n",
              "    </tr>\n",
              "    <tr>\n",
              "      <th>rating</th>\n",
              "      <th></th>\n",
              "    </tr>\n",
              "  </thead>\n",
              "  <tbody>\n",
              "    <tr>\n",
              "      <th>4.1</th>\n",
              "      <td>244</td>\n",
              "    </tr>\n",
              "    <tr>\n",
              "      <th>4.3</th>\n",
              "      <td>230</td>\n",
              "    </tr>\n",
              "    <tr>\n",
              "      <th>4.2</th>\n",
              "      <td>228</td>\n",
              "    </tr>\n",
              "    <tr>\n",
              "      <th>4.0</th>\n",
              "      <td>129</td>\n",
              "    </tr>\n",
              "    <tr>\n",
              "      <th>3.9</th>\n",
              "      <td>123</td>\n",
              "    </tr>\n",
              "    <tr>\n",
              "      <th>4.4</th>\n",
              "      <td>123</td>\n",
              "    </tr>\n",
              "    <tr>\n",
              "      <th>3.8</th>\n",
              "      <td>86</td>\n",
              "    </tr>\n",
              "    <tr>\n",
              "      <th>4.5</th>\n",
              "      <td>75</td>\n",
              "    </tr>\n",
              "    <tr>\n",
              "      <th>4</th>\n",
              "      <td>52</td>\n",
              "    </tr>\n",
              "    <tr>\n",
              "      <th>3.7</th>\n",
              "      <td>42</td>\n",
              "    </tr>\n",
              "    <tr>\n",
              "      <th>3.6</th>\n",
              "      <td>35</td>\n",
              "    </tr>\n",
              "    <tr>\n",
              "      <th>3.5</th>\n",
              "      <td>26</td>\n",
              "    </tr>\n",
              "    <tr>\n",
              "      <th>4.6</th>\n",
              "      <td>17</td>\n",
              "    </tr>\n",
              "    <tr>\n",
              "      <th>3.3</th>\n",
              "      <td>16</td>\n",
              "    </tr>\n",
              "    <tr>\n",
              "      <th>3.4</th>\n",
              "      <td>10</td>\n",
              "    </tr>\n",
              "    <tr>\n",
              "      <th>4.7</th>\n",
              "      <td>6</td>\n",
              "    </tr>\n",
              "    <tr>\n",
              "      <th>3.1</th>\n",
              "      <td>4</td>\n",
              "    </tr>\n",
              "    <tr>\n",
              "      <th>5.0</th>\n",
              "      <td>3</td>\n",
              "    </tr>\n",
              "    <tr>\n",
              "      <th>3.0</th>\n",
              "      <td>3</td>\n",
              "    </tr>\n",
              "    <tr>\n",
              "      <th>4.8</th>\n",
              "      <td>3</td>\n",
              "    </tr>\n",
              "    <tr>\n",
              "      <th>3.2</th>\n",
              "      <td>2</td>\n",
              "    </tr>\n",
              "    <tr>\n",
              "      <th>2.8</th>\n",
              "      <td>2</td>\n",
              "    </tr>\n",
              "    <tr>\n",
              "      <th>2.3</th>\n",
              "      <td>1</td>\n",
              "    </tr>\n",
              "    <tr>\n",
              "      <th>|</th>\n",
              "      <td>1</td>\n",
              "    </tr>\n",
              "    <tr>\n",
              "      <th>2</th>\n",
              "      <td>1</td>\n",
              "    </tr>\n",
              "    <tr>\n",
              "      <th>3</th>\n",
              "      <td>1</td>\n",
              "    </tr>\n",
              "    <tr>\n",
              "      <th>2.6</th>\n",
              "      <td>1</td>\n",
              "    </tr>\n",
              "    <tr>\n",
              "      <th>2.9</th>\n",
              "      <td>1</td>\n",
              "    </tr>\n",
              "  </tbody>\n",
              "</table>\n",
              "</div><br><label><b>dtype:</b> int64</label>"
            ]
          },
          "metadata": {},
          "execution_count": 37
        }
      ]
    },
    {
      "cell_type": "markdown",
      "source": [
        "## Pré Processamento\n",
        "É definido a função para criar uma coluna, caso seja necessário\n",
        "\n",
        "As colunas de review_title e review_content são concatenadas e adicionadas em uma nova coluna denominada review\n",
        "\n",
        "Depois é removido todas as colunas que estiverem no vetor cols_to_drop\n",
        "\n",
        "Finalmente é aplicado um filtro para não inserir a linha onde o rating está com o caractere '|' no lugar de um numero."
      ],
      "metadata": {
        "id": "JceIK3s3LTIM"
      }
    },
    {
      "cell_type": "code",
      "source": [
        "def criar_coluna(tabela, nova_coluna, valor):\n",
        "  tabela[nova_coluna] = valor"
      ],
      "metadata": {
        "id": "F1XvMLL-h1Um"
      },
      "execution_count": null,
      "outputs": []
    },
    {
      "cell_type": "code",
      "source": [
        "criar_coluna(df, 'review', df['review_title'].str.cat(df['review_content'], sep=' '))\n",
        "\n",
        "cols_to_drop = ['img_link', 'product_link', 'user_id',\n",
        "                'user_name', 'product_id', 'review_id',\n",
        "                'product_name', 'review_title', 'review_content']\n",
        "df = df.drop(columns=[col for col in cols_to_drop if col in df.columns], axis=1)\n",
        "df = df[df['rating'] != '|']\n",
        "# df['rating'].value_counts()"
      ],
      "metadata": {
        "id": "RPuPegMI_PZs"
      },
      "execution_count": null,
      "outputs": []
    },
    {
      "cell_type": "markdown",
      "source": [
        "## Convertendo os valores\n",
        "Os valores de preço, desconto, porcentagem de desconto, contador de avaliações e avaliações são transformados em float"
      ],
      "metadata": {
        "id": "GbmTIwb1DZgr"
      }
    },
    {
      "cell_type": "code",
      "source": [
        "def value_formatter(value):\n",
        "  return value.str.replace(\",\",'').str.replace(\"₹\",'').astype('float64')\n",
        "\n",
        "df['discounted_price'] = value_formatter(df['discounted_price'])\n",
        "df['actual_price'] = value_formatter(df['actual_price'])\n",
        "\n",
        "df['rating_count'] = df['rating_count'].str.replace(',', '').astype('float64')\n",
        "\n",
        "df['rating'] = df['rating'].astype('float64')\n",
        "\n",
        "df['discount_percentage'] = df['discount_percentage'].str.replace('%','').astype('float64')\n",
        "df['discount_percentage'] = df['discount_percentage'] / 100\n",
        "\n",
        "df = df.dropna() # remove valores nulos\n",
        "df = df.drop_duplicates() # remove valores duplicados"
      ],
      "metadata": {
        "id": "1akXhdQ_8NoS"
      },
      "execution_count": null,
      "outputs": []
    },
    {
      "cell_type": "code",
      "source": [
        "df.info()"
      ],
      "metadata": {
        "colab": {
          "base_uri": "https://localhost:8080/"
        },
        "id": "6EySzmck_6gp",
        "outputId": "8a194734-1c7f-4334-b3f0-2091105dbc80"
      },
      "execution_count": null,
      "outputs": [
        {
          "output_type": "stream",
          "name": "stdout",
          "text": [
            "<class 'pandas.core.frame.DataFrame'>\n",
            "Index: 1371 entries, 0 to 1464\n",
            "Data columns (total 8 columns):\n",
            " #   Column               Non-Null Count  Dtype  \n",
            "---  ------               --------------  -----  \n",
            " 0   category             1371 non-null   object \n",
            " 1   discounted_price     1371 non-null   float64\n",
            " 2   actual_price         1371 non-null   float64\n",
            " 3   discount_percentage  1371 non-null   float64\n",
            " 4   rating               1371 non-null   float64\n",
            " 5   rating_count         1371 non-null   float64\n",
            " 6   about_product        1371 non-null   object \n",
            " 7   review               1371 non-null   object \n",
            "dtypes: float64(5), object(3)\n",
            "memory usage: 96.4+ KB\n"
          ]
        }
      ]
    },
    {
      "cell_type": "markdown",
      "source": [
        "## Verificando as palavras mais comuns\n",
        "\n",
        "O código mostra as palavras mais comuns utilizando a função most_common_words"
      ],
      "metadata": {
        "id": "mJir_YV9R-8F"
      }
    },
    {
      "cell_type": "code",
      "source": [
        "from collections import Counter\n",
        "import re\n",
        "\n",
        "def words_unique_counter(words):\n",
        "  all_text = ' '.join(words)\n",
        "  words = re.findall(r'\\b\\w+\\b', all_text.lower())\n",
        "  unique_words = set(words)\n",
        "  return len(unique_words)\n",
        "\n",
        "def most_common_words(str_value, n, exclude_words=None):\n",
        "  if exclude_words is None:\n",
        "    exclude_words = []\n",
        "\n",
        "  all_text = ' '.join(str_value)\n",
        "  words = re.findall(r'\\b\\w+\\b', all_text.lower())\n",
        "  filtered_words = [word for word in words if word not in exclude_words]\n",
        "  word_counts = Counter(filtered_words)\n",
        "  most_common_words = [word for word, _ in word_counts.most_common(n)]\n",
        "  return most_common_words\n",
        "\n",
        "\n",
        "exclude_list = ['the', 'and', 'it', 'to', 'is', 'a', 'in', 'this', 'on', 'i',\n",
        "                'with', 'for', 's', 'of', 't', 'so', 'at', 'as', 'that', 'you',\n",
        "                'my', '1', '2', '3', '4', '5', '6', '7', '8', '9', '0']\n",
        "\n",
        "review = most_common_words(df['review'], 50, exclude_words=exclude_list)\n",
        "about_product = most_common_words(df['about_product'], 50, exclude_words=exclude_list)\n",
        "category = most_common_words(df['category'], 20)\n",
        "\n",
        "\n",
        "categoria = words_unique_counter(df['category'])\n",
        "print(f'Quantidade de palavras unicas em category: {categoria}')\n",
        "sobre = words_unique_counter(df['about_product'])\n",
        "print(f'Quantidade de palavras unicas em about_product: {sobre}')\n",
        "analise = words_unique_counter(df['review'])\n",
        "print(f'Quantidade de palavras unicas em review: {analise}')\n",
        "\n",
        "print(f\"Palavrras comuns em review: {review}\")\n",
        "print(f\"Palavras mais comuns em about_product: {about_product}\")\n",
        "print(f\"Palavras mais comuns em category: {category}\")"
      ],
      "metadata": {
        "colab": {
          "base_uri": "https://localhost:8080/"
        },
        "id": "bOAoAZL4OE3U",
        "outputId": "8d024c3e-4648-4bf2-b385-4b482e59ae73"
      },
      "execution_count": null,
      "outputs": [
        {
          "output_type": "stream",
          "name": "stdout",
          "text": [
            "Quantidade de palavras unicas em category: 370\n",
            "Quantidade de palavras unicas em about_product: 9187\n",
            "Quantidade de palavras unicas em review: 14831\n",
            "Palavrras comuns em review: ['good', 'product', 'but', 'not', 'very', 'quality', 'have', 'use', 'nice', 'are', 'price', 'be', 'one', 'can', 'if', 'was', 'cable', 'like', 'from', 'money', 'no', 'best', 'or', 'easy', 'also', 'its', 'will', 'all', 'only', 'after', 'working', 'which', 'phone', 'charging', 'using', 'value', 'has', 'buy', 'great', 'well', 'tv', 'just', 'sound', 'time', 'battery', 'more', 'works', 'watch', 'amazon', 'when']\n",
            "Palavras mais comuns em about_product: ['your', 'usb', 'or', 'can', 'cable', 'from', 'warranty', 'up', 'easy', 'c', 'power', 'charging', 'type', 'high', 'use', 'devices', 'design', 'be', 'not', 'water', 'all', 'compatible', 'product', 'by', '10', 'speed', 'any', 'charge', 'x', 'time', 'fast', 'display', 'free', 'more', 'will', 'which', 'quality', 'year', 'has', 'tv', 'watch', 'battery', 'an', 'are', 'features', 'smart', 'other', 'no', 'device', 'built']\n",
            "Palavras mais comuns em category: ['accessories', 'kitchen', 'electronics', 'home', 'cables', 'computers', 'peripherals', 'homeappliances', 'usbcables', 'smallkitchenappliances', 'hometheater', 'tv', 'video', 'mobiles', 'headphones', 'heating', 'cooling', 'airquality', 'smartphones', 'irons']\n"
          ]
        }
      ]
    },
    {
      "cell_type": "markdown",
      "source": [
        "Possiveis palavras relevantes em review:\n",
        "\n",
        "'good' | 'nice' | 'great'\n",
        "\n",
        "'bad' | 'terrible' | 'inferior'\n",
        "\n",
        "'but' | 'only' | 'yet'\n",
        "\n",
        "'not' | 'no'\n",
        "\n",
        "'easy' | 'simple' | 'smooth'\n",
        "\n",
        "'hard' | 'tricky' | 'difficult'\n",
        "\n",
        "'defective' | 'faulty'"
      ],
      "metadata": {
        "id": "DS1dbjEuSQJR"
      }
    },
    {
      "cell_type": "markdown",
      "source": [
        "Possiveis palavras relevantes em about:\n",
        "\n",
        "'fast'\n",
        "\n",
        "'speed'\n",
        "\n",
        "'free'\n",
        "\n",
        "'quality'\n",
        "\n",
        "'warranty'"
      ],
      "metadata": {
        "id": "_NHv_Av-To-a"
      }
    },
    {
      "cell_type": "code",
      "source": [
        "def mark_word_presence(texts, words_to_check):\n",
        "  marked_reviews_count = []\n",
        "  for text in texts:\n",
        "    text_words = set(re.findall(r'\\b\\w+\\b', text.lower()))\n",
        "    count = sum(1 if word in text_words else 0 for word in words_to_check)\n",
        "    marked_reviews_count.append(count)\n",
        "\n",
        "  return marked_reviews_count"
      ],
      "metadata": {
        "id": "y8XgSGciXFNO"
      },
      "execution_count": null,
      "outputs": []
    },
    {
      "cell_type": "code",
      "source": [
        "review_good_words = ['good', 'nice', 'great']\n",
        "\n",
        "nice_review = mark_word_presence(df['review'], review_good_words)\n",
        "\n",
        "print(nice_review)"
      ],
      "metadata": {
        "colab": {
          "base_uri": "https://localhost:8080/"
        },
        "id": "ADW3Uvo7ZNEE",
        "outputId": "626de90f-1636-48f7-ee8d-eaeb605bab91"
      },
      "execution_count": null,
      "outputs": [
        {
          "output_type": "stream",
          "name": "stdout",
          "text": [
            "[1, 1, 2, 2, 3, 2, 2, 2, 2, 1, 1, 2, 1, 3, 2, 2, 3, 1, 2, 2, 1, 1, 1, 2, 3, 2, 3, 2, 2, 3, 3, 2, 2, 2, 2, 2, 3, 2, 2, 1, 2, 3, 1, 2, 2, 1, 2, 1, 3, 2, 2, 2, 1, 3, 2, 1, 2, 3, 2, 2, 2, 3, 1, 1, 1, 1, 2, 3, 2, 3, 2, 1, 1, 3, 2, 2, 2, 2, 2, 1, 1, 2, 1, 1, 2, 2, 3, 3, 1, 1, 1, 3, 2, 3, 1, 3, 1, 3, 1, 1, 3, 2, 2, 3, 2, 3, 1, 2, 2, 2, 3, 3, 3, 2, 2, 1, 1, 1, 1, 2, 1, 2, 2, 3, 1, 2, 2, 2, 3, 2, 3, 3, 2, 3, 2, 3, 2, 1, 2, 3, 2, 2, 1, 2, 1, 1, 3, 2, 2, 2, 3, 2, 1, 2, 2, 0, 1, 3, 1, 1, 2, 2, 3, 2, 2, 2, 2, 1, 3, 3, 2, 3, 2, 2, 2, 2, 2, 2, 2, 3, 1, 1, 2, 3, 3, 3, 3, 3, 2, 2, 3, 2, 3, 2, 2, 2, 2, 3, 1, 1, 2, 1, 2, 1, 1, 3, 2, 3, 1, 2, 2, 1, 3, 2, 2, 2, 2, 2, 1, 1, 1, 2, 2, 3, 3, 3, 1, 2, 3, 2, 2, 2, 1, 1, 2, 3, 2, 3, 2, 1, 2, 2, 2, 1, 2, 1, 2, 3, 2, 1, 1, 2, 3, 2, 3, 2, 2, 1, 3, 2, 1, 1, 3, 3, 1, 2, 2, 1, 3, 3, 1, 2, 2, 1, 3, 2, 3, 2, 1, 3, 3, 1, 2, 2, 2, 2, 3, 3, 2, 2, 3, 1, 2, 3, 2, 2, 2, 2, 2, 2, 1, 2, 2, 3, 1, 1, 3, 2, 3, 2, 2, 3, 1, 1, 1, 2, 2, 2, 1, 2, 2, 1, 2, 2, 1, 2, 3, 2, 2, 3, 2, 2, 2, 2, 2, 2, 2, 2, 2, 2, 2, 2, 3, 2, 2, 3, 2, 2, 2, 1, 2, 3, 1, 1, 2, 1, 3, 2, 1, 3, 1, 1, 1, 3, 2, 3, 2, 1, 2, 2, 2, 3, 2, 2, 3, 3, 3, 2, 3, 2, 2, 2, 2, 2, 1, 1, 3, 2, 2, 2, 2, 1, 2, 1, 3, 1, 2, 1, 3, 2, 2, 2, 2, 2, 3, 2, 3, 1, 3, 3, 3, 3, 2, 2, 3, 3, 2, 2, 2, 2, 2, 2, 3, 3, 3, 3, 1, 1, 1, 3, 3, 1, 2, 1, 1, 2, 3, 1, 2, 3, 2, 3, 2, 2, 2, 1, 2, 1, 2, 2, 2, 2, 1, 1, 3, 2, 1, 2, 2, 2, 2, 2, 3, 1, 3, 1, 3, 2, 2, 1, 3, 2, 3, 1, 1, 2, 2, 3, 2, 2, 3, 2, 3, 1, 1, 2, 2, 1, 2, 2, 2, 3, 2, 3, 3, 1, 2, 1, 2, 3, 3, 2, 3, 2, 3, 1, 2, 1, 1, 3, 2, 2, 1, 3, 3, 3, 2, 2, 2, 1, 3, 2, 2, 1, 1, 2, 3, 2, 2, 1, 2, 3, 2, 2, 3, 3, 0, 3, 1, 1, 2, 2, 3, 2, 3, 2, 2, 2, 1, 2, 2, 2, 2, 2, 2, 3, 2, 1, 2, 2, 2, 2, 2, 2, 3, 2, 2, 3, 1, 2, 1, 2, 2, 3, 1, 2, 2, 2, 3, 3, 3, 3, 2, 2, 2, 2, 3, 2, 2, 3, 2, 2, 3, 2, 3, 3, 3, 2, 2, 1, 1, 2, 1, 2, 2, 3, 2, 2, 2, 2, 2, 3, 2, 2, 2, 2, 1, 2, 3, 2, 2, 2, 2, 2, 2, 2, 2, 2, 2, 2, 1, 3, 1, 2, 2, 1, 3, 2, 2, 1, 2, 3, 3, 3, 1, 1, 3, 2, 2, 2, 2, 2, 2, 2, 3, 2, 3, 2, 2, 2, 2, 2, 2, 3, 2, 3, 2, 1, 1, 3, 3, 1, 3, 1, 2, 3, 3, 2, 1, 2, 2, 2, 2, 2, 2, 3, 1, 3, 3, 3, 3, 2, 3, 1, 1, 2, 2, 1, 2, 1, 2, 3, 3, 1, 3, 3, 3, 2, 2, 3, 1, 2, 2, 2, 2, 1, 2, 2, 2, 2, 2, 2, 2, 2, 2, 2, 2, 3, 2, 2, 3, 3, 3, 3, 2, 1, 2, 3, 1, 3, 2, 1, 2, 2, 2, 2, 2, 2, 3, 2, 2, 2, 3, 3, 2, 2, 3, 2, 3, 1, 3, 1, 2, 2, 2, 3, 2, 3, 2, 3, 1, 1, 2, 2, 2, 3, 2, 2, 3, 2, 1, 2, 3, 2, 2, 3, 3, 2, 2, 2, 1, 2, 2, 2, 3, 1, 2, 3, 3, 2, 1, 2, 3, 2, 1, 2, 2, 2, 2, 2, 1, 2, 3, 1, 2, 2, 1, 3, 2, 1, 2, 3, 2, 3, 2, 3, 2, 2, 2, 2, 3, 1, 2, 2, 2, 2, 3, 2, 2, 1, 3, 2, 3, 2, 2, 2, 3, 2, 2, 2, 1, 2, 2, 2, 2, 1, 3, 2, 3, 1, 2, 3, 3, 2, 3, 2, 3, 2, 2, 2, 1, 3, 2, 1, 2, 2, 1, 2, 3, 1, 1, 2, 2, 2, 2, 2, 2, 3, 2, 2, 1, 2, 1, 3, 2, 1, 2, 2, 2, 2, 1, 2, 2, 2, 2, 3, 3, 1, 2, 3, 2, 2, 2, 1, 3, 3, 2, 3, 1, 3, 3, 2, 3, 2, 2, 2, 3, 3, 2, 2, 1, 2, 2, 2, 1, 3, 2, 2, 2, 1, 2, 1, 1, 2, 2, 2, 3, 1, 3, 3, 3, 2, 3, 2, 2, 2, 2, 1, 3, 2, 3, 2, 1, 2, 2, 2, 1, 1, 3, 2, 2, 3, 2, 2, 2, 2, 2, 1, 3, 3, 2, 2, 2, 2, 3, 2, 2, 2, 2, 2, 2, 1, 3, 2, 1, 3, 2, 3, 2, 2, 2, 2, 2, 2, 2, 3, 2, 1, 2, 2, 2, 2, 2, 3, 2, 2, 3, 1, 2, 3, 1, 2, 2, 2, 1, 2, 2, 2, 0, 2, 2, 2, 2, 2, 1, 2, 2, 2, 3, 2, 2, 2, 3, 2, 2, 0, 2, 2, 3, 1, 2, 1, 1, 2, 1, 2, 2, 2, 2, 2, 3, 2, 1, 2, 2, 3, 2, 3, 2, 1, 2, 2, 1, 2, 1, 2, 3, 2, 2, 3, 2, 2, 2, 3, 2, 3, 2, 2, 2, 3, 2, 1, 1, 2, 2, 2, 2, 2, 2, 2, 3, 2, 2, 2, 3, 2, 1, 2, 2, 2, 3, 3, 2, 3, 2, 2, 1, 2, 2, 3, 3, 2, 2, 2, 2, 2, 2, 2, 3, 3, 2, 2, 1, 3, 2, 1, 2, 2, 2, 2, 1, 2, 1, 1, 1, 2, 2, 0, 1, 3, 1, 2, 3, 3, 2, 2, 3, 2, 2, 3, 1, 1, 2, 2, 1, 2, 1, 3, 2, 2, 2, 2, 2, 2, 3, 2, 2, 3, 2, 2, 1, 3, 3, 2, 2, 1, 2, 1, 2, 2, 3, 3, 2, 2, 3, 2, 3, 2, 2, 2, 2, 2, 2, 3, 2, 2, 3, 2, 2, 2, 2, 2, 2, 2, 1, 1, 2, 2, 2, 2, 2, 1, 3, 1, 1, 2, 2, 3, 3, 3, 1, 1, 3, 2, 3, 3, 2, 2, 2, 3, 2, 1, 2, 2, 2, 2, 2, 1, 1, 2, 0, 2, 2, 2, 1, 2, 2, 2, 2, 2, 2, 2, 2, 2, 1, 2, 1, 3, 3, 2, 2, 2, 2, 2, 1, 1, 2, 2, 2, 1, 1, 3, 2, 2, 2, 1, 1, 3, 3, 2, 3, 2, 2, 3, 1, 3, 3, 3, 2, 2, 2, 2, 2, 1, 2, 3, 2, 2, 2, 2, 2, 2, 2, 2, 1, 2, 3, 2, 3, 2, 2, 1, 2, 3, 1, 2, 2, 2, 2, 3, 1, 2, 2, 2, 2, 2, 3, 2, 3, 1, 3, 3, 2, 1, 2, 2, 1, 3, 2, 3, 2, 3, 3, 2, 2, 1, 2, 3, 2, 3, 1, 1, 1, 1, 2, 1, 3, 2, 2, 2, 2]\n"
          ]
        }
      ]
    },
    {
      "cell_type": "code",
      "source": [
        "categoria1 = df['category'].head(1)\n",
        "print(f'Categoria 1 linha {categoria1}')"
      ],
      "metadata": {
        "id": "ifdJ00onhSr6",
        "colab": {
          "base_uri": "https://localhost:8080/"
        },
        "outputId": "dd416598-da9f-4796-9d91-5a0ce32abffa"
      },
      "execution_count": null,
      "outputs": [
        {
          "output_type": "stream",
          "name": "stdout",
          "text": [
            "Categoria 1 linha 0    Computers&Accessories|Accessories&Peripherals|...\n",
            "Name: category, dtype: object\n"
          ]
        }
      ]
    }
  ]
}